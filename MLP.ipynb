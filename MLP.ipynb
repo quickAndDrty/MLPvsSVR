{
 "cells": [
  {
   "cell_type": "code",
   "execution_count": 44,
   "metadata": {},
   "outputs": [],
   "source": [
    "import torch.nn as nn\n",
    "import torch \n",
    "import pandas as pd\n",
    "from numpy import sqrt\n",
    "import numpy as np\n",
    "from sklearn.model_selection import KFold\n",
    "from sklearn.metrics import r2_score\n",
    "import matplotlib.pyplot as plt\n",
    "from sklearn.model_selection import learning_curve\n",
    "import seaborn as sns\n",
    "import seaborn\n",
    "import sklearn\n",
    "import matplotlib"
   ]
  },
  {
   "cell_type": "markdown",
   "metadata": {},
   "source": [
    "check current versions of libraries "
   ]
  },
  {
   "cell_type": "code",
   "execution_count": 45,
   "metadata": {},
   "outputs": [
    {
     "name": "stdout",
     "output_type": "stream",
     "text": [
      "0.11.0\n"
     ]
    }
   ],
   "source": [
    "#print(seaborn.__version__)\n",
    "#print(torch.__version__)\n",
    "#print(pd.__version__)\n",
    "#print(np.__version__)\n",
    "#print(sklearn.__version__)\n",
    "#print(matplotlib.__version__)\n",
    "#!python -V"
   ]
  },
  {
   "cell_type": "markdown",
   "metadata": {},
   "source": [
    "load the data "
   ]
  },
  {
   "cell_type": "code",
   "execution_count": 37,
   "metadata": {},
   "outputs": [],
   "source": [
    "math = pd.read_csv('math.csv')"
   ]
  },
  {
   "cell_type": "code",
   "execution_count": 38,
   "metadata": {},
   "outputs": [],
   "source": [
    "math = math.drop(columns=['school', 'Mjob', 'Fjob', 'reason', 'guardian'])\n",
    "#print(math)\n",
    "#math = math.drop(columns=['activities', 'romantic', 'famrel', 'freetime', 'goout', 'Dalc', 'Walc', 'health'])"
   ]
  },
  {
   "cell_type": "code",
   "execution_count": null,
   "metadata": {},
   "outputs": [],
   "source": [
    "#port = pd.read_csv('por.csv')\n",
    "#port = port.drop(columns=['school', 'Mjob', 'Fjob', 'reason', 'guardian'])\n",
    "#port = port.drop(columns=['activities', 'romantic', 'famrel', 'freetime', 'goout', 'Dalc', 'Walc', 'health'])"
   ]
  },
  {
   "cell_type": "markdown",
   "metadata": {},
   "source": [
    "check the dimension of input data for future configuration of the network"
   ]
  },
  {
   "cell_type": "code",
   "execution_count": 39,
   "metadata": {},
   "outputs": [
    {
     "name": "stdout",
     "output_type": "stream",
     "text": [
      "27\n"
     ]
    }
   ],
   "source": [
    "inputDim = len(math.columns) - 1\n",
    "print(inputDim)"
   ]
  },
  {
   "cell_type": "code",
   "execution_count": 40,
   "metadata": {},
   "outputs": [
    {
     "name": "stdout",
     "output_type": "stream",
     "text": [
      "395\n"
     ]
    }
   ],
   "source": [
    "noRows = math.shape[0]\n",
    "print(noRows)"
   ]
  },
  {
   "cell_type": "markdown",
   "metadata": {},
   "source": [
    "split the variables"
   ]
  },
  {
   "cell_type": "code",
   "execution_count": 41,
   "metadata": {},
   "outputs": [],
   "source": [
    "X = np.array([i[:inputDim] for i in math.values.tolist()])\n",
    "#print(X)\n",
    "y = np.array([i[-1] for i in math.values.tolist()])\n",
    "#print(y)"
   ]
  },
  {
   "cell_type": "markdown",
   "metadata": {},
   "source": [
    "create a network with 2 hidden layers and 2 activation functions(sigmoid and relu)"
   ]
  },
  {
   "cell_type": "code",
   "execution_count": 42,
   "metadata": {},
   "outputs": [],
   "source": [
    "\n",
    "class NeuralNet(nn.Module):\n",
    "    #network configuration\n",
    "    def __init__(self, inputDim):\n",
    "        super(NeuralNet, self).__init__()\n",
    "        #structure\n",
    "        self.fc1 = nn.Linear(inputDim, 15)\n",
    "        self.fc2 = nn.Linear(15, 7)\n",
    "        self.fc3 = nn.Linear(7, 1)\n",
    "        #activation functions\n",
    "        self.sigmoid = torch.nn.Sigmoid()\n",
    "        self.ReLU = torch.nn.ReLU()\n",
    "\n",
    "    #forward propagation\n",
    "    def forward(self, x):\n",
    "        #first layer\n",
    "        x = self.fc1(x)\n",
    "        x = self.sigmoid(x)\n",
    "        #second layer\n",
    "        x = self.fc2(x)\n",
    "        x = self.ReLU(x)\n",
    "        #third layer\n",
    "        output = self.fc3(x)\n",
    "        return output\n"
   ]
  },
  {
   "cell_type": "markdown",
   "metadata": {},
   "source": [
    "initialize the network and other properties "
   ]
  },
  {
   "cell_type": "code",
   "execution_count": 28,
   "metadata": {},
   "outputs": [
    {
     "name": "stdout",
     "output_type": "stream",
     "text": [
      "NeuralNet(\n",
      "  (fc1): Linear(in_features=27, out_features=15, bias=True)\n",
      "  (fc2): Linear(in_features=15, out_features=7, bias=True)\n",
      "  (fc3): Linear(in_features=7, out_features=1, bias=True)\n",
      "  (sigmoid): Sigmoid()\n",
      "  (ReLU): ReLU()\n",
      ")\n"
     ]
    }
   ],
   "source": [
    "network = NeuralNet(inputDim)\n",
    "#optimise using stochastic gradient descent\n",
    "criterion = torch.nn.MSELoss()\n",
    "optimizer = torch.optim.SGD(network.parameters(), lr = 0.01, momentum=0.5)\n",
    "print(network.eval())"
   ]
  },
  {
   "cell_type": "markdown",
   "metadata": {},
   "source": [
    "implement a KFold Cross Validation for better results"
   ]
  },
  {
   "cell_type": "code",
   "execution_count": 29,
   "metadata": {
    "scrolled": true
   },
   "outputs": [
    {
     "name": "stdout",
     "output_type": "stream",
     "text": [
      "10\n",
      "KFold(n_splits=10, random_state=None, shuffle=False)\n"
     ]
    }
   ],
   "source": [
    "kf = KFold(n_splits=10)\n",
    "print(kf.get_n_splits(X))\n",
    "print(kf)"
   ]
  },
  {
   "cell_type": "markdown",
   "metadata": {},
   "source": [
    "create an array with train losses for all the epochs"
   ]
  },
  {
   "cell_type": "markdown",
   "metadata": {},
   "source": [
    "'''\n",
    "X_train, X_test = torch.tensor(X[:310]).float(), torch.tensor(X[:310]).float()\n",
    "y_train, y_test = torch.tensor(y[:310]).float(), torch.tensor(y[310:]).float()\n",
    "optimizer.zero_grad()\n",
    "epochs = 30   \n",
    "firstLossArray = []\n",
    "for epoch in range(epochs):\n",
    "    #clear gradient\n",
    "    optimizer.zero_grad()\n",
    "    #compute model output\n",
    "    y_pred = network(X_train)\n",
    "    loss = criterion(y_pred.squeeze(), y_train)\n",
    "    print('Epoch {}: train loss: {}'.format(epoch, loss.item()))\n",
    "    firstLossArray.append(loss.item())\n",
    "    #credit assigment\n",
    "    loss.backward()\n",
    "    #update model weights\n",
    "    optimizer.step()\n",
    "    \n",
    "    \n",
    "\n",
    "plt.plot(firstLossArray, c='b')\n",
    "plt.xlabel('Epochs')\n",
    "plt.ylabel('Train loss')\n",
    "plt.figure()\n",
    "plt.show()\n",
    "'''"
   ]
  },
  {
   "cell_type": "code",
   "execution_count": 14,
   "metadata": {},
   "outputs": [],
   "source": [
    "lossArray = []"
   ]
  },
  {
   "cell_type": "code",
   "execution_count": 15,
   "metadata": {},
   "outputs": [
    {
     "name": "stdout",
     "output_type": "stream",
     "text": [
      "Epoch 0: train loss: 7.329375267028809\n",
      "Epoch 1: train loss: 5.391777515411377\n",
      "Epoch 2: train loss: 5.098537445068359\n",
      "Epoch 3: train loss: 5.290496349334717\n",
      "Epoch 4: train loss: 6.335014343261719\n",
      "Epoch 5: train loss: 9.52396297454834\n",
      "Epoch 6: train loss: 12.56798267364502\n",
      "Epoch 7: train loss: 9.930880546569824\n",
      "Epoch 8: train loss: 5.280985355377197\n",
      "Epoch 9: train loss: 5.30851411819458\n",
      "Epoch 10: train loss: 6.251679420471191\n",
      "Epoch 11: train loss: 5.9458537101745605\n",
      "Epoch 12: train loss: 5.361039161682129\n",
      "Epoch 13: train loss: 4.32145357131958\n",
      "Epoch 14: train loss: 3.966651439666748\n",
      "Epoch 15: train loss: 3.873577356338501\n",
      "Epoch 16: train loss: 3.7948784828186035\n",
      "Epoch 17: train loss: 3.7647407054901123\n",
      "Epoch 18: train loss: 3.7324438095092773\n",
      "Epoch 19: train loss: 3.7454895973205566\n",
      "Epoch 20: train loss: 3.840444803237915\n",
      "Epoch 21: train loss: 4.0852766036987305\n",
      "Epoch 22: train loss: 4.565882682800293\n",
      "Epoch 23: train loss: 5.214489936828613\n",
      "Epoch 24: train loss: 5.536664009094238\n",
      "Epoch 25: train loss: 5.467084884643555\n",
      "Epoch 26: train loss: 4.2958807945251465\n",
      "Epoch 27: train loss: 3.6640005111694336\n",
      "Epoch 28: train loss: 3.3698172569274902\n",
      "Epoch 29: train loss: 3.255317449569702\n",
      "test loss after training MSE 1.6228961944580078\n",
      "test loss after training RMSE 1.273929430721344\n",
      "r squared 0.8697449789777985\n",
      "Epoch 0: train loss: 3.086829900741577\n",
      "Epoch 1: train loss: 3.0456900596618652\n",
      "Epoch 2: train loss: 3.0128042697906494\n",
      "Epoch 3: train loss: 2.984386682510376\n",
      "Epoch 4: train loss: 2.9610204696655273\n",
      "Epoch 5: train loss: 2.9456229209899902\n",
      "Epoch 6: train loss: 2.94313383102417\n",
      "Epoch 7: train loss: 2.9664742946624756\n",
      "Epoch 8: train loss: 3.0399410724639893\n",
      "Epoch 9: train loss: 3.2200002670288086\n",
      "Epoch 10: train loss: 3.607478380203247\n",
      "Epoch 11: train loss: 4.271424293518066\n",
      "Epoch 12: train loss: 4.9880194664001465\n",
      "Epoch 13: train loss: 5.41319465637207\n",
      "Epoch 14: train loss: 4.374678611755371\n",
      "Epoch 15: train loss: 3.5631492137908936\n",
      "Epoch 16: train loss: 3.039224147796631\n",
      "Epoch 17: train loss: 2.8445281982421875\n",
      "Epoch 18: train loss: 2.753732681274414\n",
      "Epoch 19: train loss: 2.7123663425445557\n",
      "Epoch 20: train loss: 2.695669174194336\n",
      "Epoch 21: train loss: 2.6994364261627197\n",
      "Epoch 22: train loss: 2.7239506244659424\n",
      "Epoch 23: train loss: 2.7824039459228516\n",
      "Epoch 24: train loss: 2.89192271232605\n",
      "Epoch 25: train loss: 3.082500696182251\n",
      "Epoch 26: train loss: 3.365232229232788\n",
      "Epoch 27: train loss: 3.6954329013824463\n",
      "Epoch 28: train loss: 3.9280383586883545\n",
      "Epoch 29: train loss: 3.9744136333465576\n",
      "test loss after training MSE 4.062121391296387\n",
      "test loss after training RMSE 2.0154705136261324\n",
      "r squared 0.6327195267346819\n",
      "Epoch 0: train loss: 3.813098669052124\n",
      "Epoch 1: train loss: 3.6078155040740967\n",
      "Epoch 2: train loss: 3.321342706680298\n",
      "Epoch 3: train loss: 3.045783281326294\n",
      "Epoch 4: train loss: 2.8878886699676514\n",
      "Epoch 5: train loss: 2.797769784927368\n",
      "Epoch 6: train loss: 2.751587152481079\n",
      "Epoch 7: train loss: 2.7250730991363525\n",
      "Epoch 8: train loss: 2.726346492767334\n",
      "Epoch 9: train loss: 2.7334067821502686\n",
      "Epoch 10: train loss: 2.7574360370635986\n",
      "Epoch 11: train loss: 2.7800705432891846\n",
      "Epoch 12: train loss: 2.82138729095459\n",
      "Epoch 13: train loss: 2.850799560546875\n",
      "Epoch 14: train loss: 2.896629571914673\n",
      "Epoch 15: train loss: 2.9198341369628906\n",
      "Epoch 16: train loss: 2.9535279273986816\n",
      "Epoch 17: train loss: 2.9498066902160645\n",
      "Epoch 18: train loss: 2.9500315189361572\n",
      "Epoch 19: train loss: 2.9129505157470703\n",
      "Epoch 20: train loss: 2.8828516006469727\n",
      "Epoch 21: train loss: 2.828010082244873\n",
      "Epoch 22: train loss: 2.787285804748535\n",
      "Epoch 23: train loss: 2.7318148612976074\n",
      "Epoch 24: train loss: 2.69453501701355\n",
      "Epoch 25: train loss: 2.6561264991760254\n",
      "Epoch 26: train loss: 2.635077476501465\n",
      "Epoch 27: train loss: 2.611504316329956\n",
      "Epoch 28: train loss: 2.602320432662964\n",
      "Epoch 29: train loss: 2.5859897136688232\n",
      "test loss after training MSE 2.1658782958984375\n",
      "test loss after training RMSE 1.4716923237886503\n",
      "r squared 0.8638668632534459\n",
      "Epoch 0: train loss: 2.431558609008789\n",
      "Epoch 1: train loss: 2.370852470397949\n",
      "Epoch 2: train loss: 2.3373148441314697\n",
      "Epoch 3: train loss: 2.3407487869262695\n",
      "Epoch 4: train loss: 2.3501510620117188\n",
      "Epoch 5: train loss: 2.3770065307617188\n",
      "Epoch 6: train loss: 2.409965753555298\n",
      "Epoch 7: train loss: 2.4676473140716553\n",
      "Epoch 8: train loss: 2.5233840942382812\n",
      "Epoch 9: train loss: 2.6030170917510986\n",
      "Epoch 10: train loss: 2.6636435985565186\n",
      "Epoch 11: train loss: 2.73441743850708\n",
      "Epoch 12: train loss: 2.751627206802368\n",
      "Epoch 13: train loss: 2.7738280296325684\n",
      "Epoch 14: train loss: 2.7223989963531494\n",
      "Epoch 15: train loss: 2.6851394176483154\n",
      "Epoch 16: train loss: 2.595172166824341\n",
      "Epoch 17: train loss: 2.538633108139038\n",
      "Epoch 18: train loss: 2.4564766883850098\n",
      "Epoch 19: train loss: 2.40824818611145\n",
      "Epoch 20: train loss: 2.3495821952819824\n",
      "Epoch 21: train loss: 2.313758134841919\n",
      "Epoch 22: train loss: 2.273585557937622\n",
      "Epoch 23: train loss: 2.249060869216919\n",
      "Epoch 24: train loss: 2.223386287689209\n",
      "Epoch 25: train loss: 2.2107503414154053\n",
      "Epoch 26: train loss: 2.197254180908203\n",
      "Epoch 27: train loss: 2.194533109664917\n",
      "Epoch 28: train loss: 2.1899847984313965\n",
      "Epoch 29: train loss: 2.1952545642852783\n",
      "test loss after training MSE 3.5622406005859375\n",
      "test loss after training RMSE 1.8873898909832958\n",
      "r squared 0.8984230346981326\n",
      "Epoch 0: train loss: 2.3207998275756836\n",
      "Epoch 1: train loss: 2.316394329071045\n",
      "Epoch 2: train loss: 2.2979302406311035\n",
      "Epoch 3: train loss: 2.2643063068389893\n",
      "Epoch 4: train loss: 2.2351577281951904\n",
      "Epoch 5: train loss: 2.207735538482666\n",
      "Epoch 6: train loss: 2.1847400665283203\n",
      "Epoch 7: train loss: 2.1664929389953613\n",
      "Epoch 8: train loss: 2.155928373336792\n",
      "Epoch 9: train loss: 2.1457018852233887\n",
      "Epoch 10: train loss: 2.1427817344665527\n",
      "Epoch 11: train loss: 2.141622543334961\n",
      "Epoch 12: train loss: 2.1487441062927246\n",
      "Epoch 13: train loss: 2.155777931213379\n",
      "Epoch 14: train loss: 2.1718101501464844\n",
      "Epoch 15: train loss: 2.191333770751953\n",
      "Epoch 16: train loss: 2.2206389904022217\n",
      "Epoch 17: train loss: 2.248710870742798\n",
      "Epoch 18: train loss: 2.2856199741363525\n",
      "Epoch 19: train loss: 2.3245418071746826\n",
      "Epoch 20: train loss: 2.373948574066162\n",
      "Epoch 21: train loss: 2.4099442958831787\n",
      "Epoch 22: train loss: 2.448354721069336\n",
      "Epoch 23: train loss: 2.4634363651275635\n",
      "Epoch 24: train loss: 2.4826207160949707\n",
      "Epoch 25: train loss: 2.459721326828003\n",
      "Epoch 26: train loss: 2.4373481273651123\n",
      "Epoch 27: train loss: 2.388535737991333\n",
      "Epoch 28: train loss: 2.3469183444976807\n",
      "Epoch 29: train loss: 2.2887628078460693\n",
      "test loss after training MSE 2.733544111251831\n",
      "test loss after training RMSE 1.6533433131844792\n",
      "r squared 0.8754330343242762\n",
      "Epoch 0: train loss: 2.424123525619507\n",
      "Epoch 1: train loss: 2.440436840057373\n",
      "Epoch 2: train loss: 2.5107738971710205\n",
      "Epoch 3: train loss: 2.5056650638580322\n",
      "Epoch 4: train loss: 2.5515527725219727\n",
      "Epoch 5: train loss: 2.5617120265960693\n",
      "Epoch 6: train loss: 2.589632272720337\n",
      "Epoch 7: train loss: 2.5460431575775146\n",
      "Epoch 8: train loss: 2.537208318710327\n",
      "Epoch 9: train loss: 2.483546495437622\n",
      "Epoch 10: train loss: 2.4559507369995117\n",
      "Epoch 11: train loss: 2.3937737941741943\n",
      "Epoch 12: train loss: 2.368959903717041\n",
      "Epoch 13: train loss: 2.3153738975524902\n",
      "Epoch 14: train loss: 2.2933382987976074\n",
      "Epoch 15: train loss: 2.2530360221862793\n",
      "Epoch 16: train loss: 2.2467496395111084\n",
      "Epoch 17: train loss: 2.2205355167388916\n",
      "Epoch 18: train loss: 2.2237730026245117\n",
      "Epoch 19: train loss: 2.2091610431671143\n",
      "Epoch 20: train loss: 2.222660779953003\n",
      "Epoch 21: train loss: 2.213834762573242\n",
      "Epoch 22: train loss: 2.230078935623169\n",
      "Epoch 23: train loss: 2.223841905593872\n",
      "Epoch 24: train loss: 2.246912956237793\n",
      "Epoch 25: train loss: 2.239945888519287\n",
      "Epoch 26: train loss: 2.259368658065796\n",
      "Epoch 27: train loss: 2.249105215072632\n",
      "Epoch 28: train loss: 2.2625863552093506\n",
      "Epoch 29: train loss: 2.2468221187591553\n",
      "test loss after training MSE 1.0596542358398438\n",
      "test loss after training RMSE 1.0293950824828355\n",
      "r squared 0.9120520453638993\n",
      "Epoch 0: train loss: 2.1328940391540527\n",
      "Epoch 1: train loss: 2.039341688156128\n",
      "Epoch 2: train loss: 1.930456280708313\n",
      "Epoch 3: train loss: 1.8602877855300903\n",
      "Epoch 4: train loss: 1.8198578357696533\n",
      "Epoch 5: train loss: 1.7939285039901733\n",
      "Epoch 6: train loss: 1.7785816192626953\n",
      "Epoch 7: train loss: 1.7682241201400757\n",
      "Epoch 8: train loss: 1.7613168954849243\n",
      "Epoch 9: train loss: 1.7554047107696533\n",
      "Epoch 10: train loss: 1.7502026557922363\n",
      "Epoch 11: train loss: 1.745406985282898\n",
      "Epoch 12: train loss: 1.7413755655288696\n",
      "Epoch 13: train loss: 1.7374358177185059\n",
      "Epoch 14: train loss: 1.7337852716445923\n",
      "Epoch 15: train loss: 1.7304871082305908\n",
      "Epoch 16: train loss: 1.727647304534912\n",
      "Epoch 17: train loss: 1.725150465965271\n",
      "Epoch 18: train loss: 1.723098874092102\n",
      "Epoch 19: train loss: 1.7216005325317383\n",
      "Epoch 20: train loss: 1.7203741073608398\n",
      "Epoch 21: train loss: 1.7200599908828735\n",
      "Epoch 22: train loss: 1.7205015420913696\n",
      "Epoch 23: train loss: 1.7221522331237793\n",
      "Epoch 24: train loss: 1.725874662399292\n",
      "Epoch 25: train loss: 1.7308000326156616\n",
      "Epoch 26: train loss: 1.7387510538101196\n",
      "Epoch 27: train loss: 1.7481129169464111\n",
      "Epoch 28: train loss: 1.7596873044967651\n",
      "Epoch 29: train loss: 1.7760640382766724\n",
      "test loss after training MSE 1.9899190664291382\n",
      "test loss after training RMSE 1.410644911531296\n",
      "r squared 0.9172408736141491\n",
      "Epoch 0: train loss: 1.8692935705184937\n",
      "Epoch 1: train loss: 1.9216233491897583\n",
      "Epoch 2: train loss: 1.9677976369857788\n",
      "Epoch 3: train loss: 1.9866578578948975\n",
      "Epoch 4: train loss: 2.0048537254333496\n",
      "Epoch 5: train loss: 2.0030429363250732\n",
      "Epoch 6: train loss: 1.9998047351837158\n",
      "Epoch 7: train loss: 1.9768650531768799\n",
      "Epoch 8: train loss: 1.9601161479949951\n",
      "Epoch 9: train loss: 1.9333229064941406\n",
      "Epoch 10: train loss: 1.9141407012939453\n",
      "Epoch 11: train loss: 1.8875744342803955\n",
      "Epoch 12: train loss: 1.8700177669525146\n",
      "Epoch 13: train loss: 1.8471996784210205\n",
      "Epoch 14: train loss: 1.83234703540802\n",
      "Epoch 15: train loss: 1.8162513971328735\n",
      "Epoch 16: train loss: 1.8066145181655884\n",
      "Epoch 17: train loss: 1.7944358587265015\n",
      "Epoch 18: train loss: 1.7878501415252686\n",
      "Epoch 19: train loss: 1.7800694704055786\n",
      "Epoch 20: train loss: 1.7767399549484253\n",
      "Epoch 21: train loss: 1.7721154689788818\n",
      "Epoch 22: train loss: 1.7710139751434326\n",
      "Epoch 23: train loss: 1.7687060832977295\n",
      "Epoch 24: train loss: 1.7693078517913818\n",
      "Epoch 25: train loss: 1.770300030708313\n",
      "Epoch 26: train loss: 1.7731828689575195\n",
      "Epoch 27: train loss: 1.7753686904907227\n",
      "Epoch 28: train loss: 1.778982400894165\n",
      "Epoch 29: train loss: 1.7813459634780884\n",
      "test loss after training MSE 1.3850892782211304\n",
      "test loss after training RMSE 1.1768981596642636\n",
      "r squared 0.9251236524139698\n",
      "Epoch 0: train loss: 1.6107325553894043\n",
      "Epoch 1: train loss: 1.5646343231201172\n",
      "Epoch 2: train loss: 1.531494140625\n",
      "Epoch 3: train loss: 1.5171308517456055\n",
      "Epoch 4: train loss: 1.506263017654419\n",
      "Epoch 5: train loss: 1.5007144212722778\n",
      "Epoch 6: train loss: 1.4954044818878174\n",
      "Epoch 7: train loss: 1.4919614791870117\n",
      "Epoch 8: train loss: 1.488127589225769\n",
      "Epoch 9: train loss: 1.4852572679519653\n",
      "Epoch 10: train loss: 1.4821566343307495\n",
      "Epoch 11: train loss: 1.4794272184371948\n",
      "Epoch 12: train loss: 1.4769017696380615\n",
      "Epoch 13: train loss: 1.4745279550552368\n",
      "Epoch 14: train loss: 1.4722081422805786\n",
      "Epoch 15: train loss: 1.4701521396636963\n",
      "Epoch 16: train loss: 1.4680705070495605\n",
      "Epoch 17: train loss: 1.4662489891052246\n",
      "Epoch 18: train loss: 1.4642338752746582\n",
      "Epoch 19: train loss: 1.4623644351959229\n",
      "Epoch 20: train loss: 1.4602934122085571\n",
      "Epoch 21: train loss: 1.4585331678390503\n",
      "Epoch 22: train loss: 1.4564763307571411\n",
      "Epoch 23: train loss: 1.4547419548034668\n",
      "Epoch 24: train loss: 1.4527031183242798\n",
      "Epoch 25: train loss: 1.4511007070541382\n",
      "Epoch 26: train loss: 1.4491249322891235\n",
      "Epoch 27: train loss: 1.4475337266921997\n",
      "Epoch 28: train loss: 1.4455960988998413\n",
      "Epoch 29: train loss: 1.4441331624984741\n",
      "test loss after training MSE 2.9833273887634277\n",
      "test loss after training RMSE 1.7272311335670822\n",
      "r squared 0.8782952275774185\n",
      "Epoch 0: train loss: 1.6231367588043213\n",
      "Epoch 1: train loss: 1.6755937337875366\n",
      "Epoch 2: train loss: 1.7809746265411377\n",
      "Epoch 3: train loss: 1.9743574857711792\n",
      "Epoch 4: train loss: 2.230090618133545\n",
      "Epoch 5: train loss: 2.623495578765869\n",
      "Epoch 6: train loss: 3.1600143909454346\n",
      "Epoch 7: train loss: 3.4694485664367676\n",
      "Epoch 8: train loss: 3.3711130619049072\n",
      "Epoch 9: train loss: 2.96004056930542\n",
      "Epoch 10: train loss: 2.517714262008667\n",
      "Epoch 11: train loss: 2.1213996410369873\n",
      "Epoch 12: train loss: 1.864048957824707\n",
      "Epoch 13: train loss: 1.718299150466919\n",
      "Epoch 14: train loss: 1.6288541555404663\n",
      "Epoch 15: train loss: 1.5777751207351685\n",
      "Epoch 16: train loss: 1.5498350858688354\n",
      "Epoch 17: train loss: 1.5341956615447998\n",
      "Epoch 18: train loss: 1.52357017993927\n",
      "Epoch 19: train loss: 1.5163754224777222\n",
      "Epoch 20: train loss: 1.5109269618988037\n",
      "Epoch 21: train loss: 1.5066041946411133\n",
      "Epoch 22: train loss: 1.5031412839889526\n",
      "Epoch 23: train loss: 1.5003645420074463\n",
      "Epoch 24: train loss: 1.4979506731033325\n",
      "Epoch 25: train loss: 1.4961296319961548\n",
      "Epoch 26: train loss: 1.4944658279418945\n",
      "Epoch 27: train loss: 1.493517279624939\n",
      "Epoch 28: train loss: 1.492603063583374\n",
      "Epoch 29: train loss: 1.4932219982147217\n",
      "test loss after training MSE 1.6900293827056885\n",
      "test loss after training RMSE 1.3000113009915293\n",
      "r squared 0.9150348892444925\n"
     ]
    }
   ],
   "source": [
    "for train_index, test_index in kf.split(X):\n",
    "    #print(\"TRAIN:\", train_index, \"TEST:\", test_index)\n",
    "    X_train, X_test = torch.tensor(X[train_index]).float(), torch.tensor(X[test_index]).float()\n",
    "    y_train, y_test = torch.tensor(y[train_index]).float(), torch.tensor(y[test_index]).float()\n",
    "    optimizer.zero_grad()\n",
    "\n",
    "    epochs = 30\n",
    "    for epoch in range(epochs):\n",
    "        #clear gradient\n",
    "        optimizer.zero_grad()\n",
    "        #compute model output\n",
    "        y_pred = network(X_train)\n",
    "        loss = criterion(y_pred.squeeze(), y_train)\n",
    "        print('Epoch {}: train loss: {}'.format(epoch, loss.item()))\n",
    "        lossArray.append(loss.item())\n",
    "        #credit assigment\n",
    "        loss.backward()\n",
    "        #update model weights\n",
    "        optimizer.step()\n",
    "    \n",
    "    y_Pred = network(X_test)\n",
    "    afterTrain = criterion(y_Pred.squeeze(), y_test)\n",
    "    print('test loss after training MSE', afterTrain.item())\n",
    "    print('test loss after training RMSE', sqrt(afterTrain.item()))\n",
    "    print('r squared', r2_score(y_test.detach().numpy(), y_Pred.detach().numpy()))\n",
    "        \n",
    "    "
   ]
  },
  {
   "cell_type": "markdown",
   "metadata": {},
   "source": [
    "check final results after training "
   ]
  },
  {
   "cell_type": "code",
   "execution_count": 16,
   "metadata": {},
   "outputs": [
    {
     "name": "stdout",
     "output_type": "stream",
     "text": [
      "test loss after training MSE 1.6900293827056885\n",
      "test loss after training RMSE 1.3000113009915293\n",
      "r squared 0.9150348892444925\n"
     ]
    }
   ],
   "source": [
    "y_Pred = network(X_test)\n",
    "afterTrain = criterion(y_Pred.squeeze(), y_test)\n",
    "print('test loss after training MSE', afterTrain.item())\n",
    "print('test loss after training RMSE', sqrt(afterTrain.item()))\n",
    "print('r squared', r2_score(y_test.detach().numpy(), y_Pred.detach().numpy()))"
   ]
  },
  {
   "cell_type": "code",
   "execution_count": 17,
   "metadata": {},
   "outputs": [],
   "source": [
    "#print(lossArray)"
   ]
  },
  {
   "cell_type": "code",
   "execution_count": 18,
   "metadata": {},
   "outputs": [
    {
     "data": {
      "image/png": "[encoded data removed]",
      "text/plain": [
       "<Figure size 432x288 with 1 Axes>"
      ]
     },
     "metadata": {
      "needs_background": "light"
     },
     "output_type": "display_data"
    },
    {
     "data": {
      "text/plain": [
       "<Figure size 432x288 with 0 Axes>"
      ]
     },
     "metadata": {},
     "output_type": "display_data"
    }
   ],
   "source": [
    "plt.plot(lossArray, c='b')\n",
    "plt.xlabel('Epochs')\n",
    "plt.ylabel('Train loss')\n",
    "plt.figure()\n",
    "plt.show()"
   ]
  },
  {
   "cell_type": "markdown",
   "metadata": {},
   "source": [
    "check the correlation"
   ]
  },
  {
   "cell_type": "code",
   "execution_count": 339,
   "metadata": {},
   "outputs": [
    {
     "data": {
      "text/plain": [
       "Text(0.5, 1.0, 'Correlation ')"
      ]
     },
     "execution_count": 339,
     "metadata": {},
     "output_type": "execute_result"
    },
    {
     "data": {
      "image/png": "[encoded data removed]",
      "text/plain": [
       "<Figure size 432x288 with 2 Axes>"
      ]
     },
     "metadata": {
      "needs_background": "light"
     },
     "output_type": "display_data"
    }
   ],
   "source": [
    "plt.figure(1)\n",
    "sns.heatmap(math.corr())\n",
    "plt.title('Correlation ')"
   ]
  },
  {
   "cell_type": "code",
   "execution_count": null,
   "metadata": {},
   "outputs": [],
   "source": []
  }
 ],
 "metadata": {
  "kernelspec": {
   "display_name": "Python 3",
   "language": "python",
   "name": "python3"
  },
  "language_info": {
   "codemirror_mode": {
    "name": "ipython",
    "version": 3
   },
   "file_extension": ".py",
   "mimetype": "text/x-python",
   "name": "python",
   "nbconvert_exporter": "python",
   "pygments_lexer": "ipython3",
   "version": "3.8.5"
  }
 },
 "nbformat": 4,
 "nbformat_minor": 4
}
